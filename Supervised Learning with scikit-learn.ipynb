{
 "cells": [
  {
   "cell_type": "markdown",
   "metadata": {},
   "source": [
    "# Supervised Learning with scikit-learn\n",
    "\n",
    "## Classification\n",
    "\n",
    "In this chapter, you will be introduced to classification problems and learn how to solve them using supervised learning techniques. Classification problems are prevalent in a variety of domains, ranging from finance to healthcare. Here, you will have the chance to apply what you are learning to a political dataset, where you classify the party affiliation of United States Congressmen based on their voting records.\n",
    "\n",
    "> Machine learning : Art and science of giving computers the ability to learn to make decisions from data without being explictly programmed. \n",
    "\n",
    "### Types of learning \n",
    "\n",
    "\n",
    "* Unsupervised learning : unlabeled data, we try to uncover hidden patterns from unlabeled data. Ex. Grouping customers into different categories based on their behaviour but we don't know in advance which are going to be these categories (this is called **clustering**). \n",
    "\n",
    "\n",
    "* Reinforcement learning : the agent interacts with an environment. The agent is able to optimize its behaviour depending on the environment -it learns-, due to a rewards/punishment system inspired from the behavioral psychology. It has a lot of applications: economics, games, genetics. Ex. AlphaGo 2015.\n",
    "\n",
    "\n",
    "* Supervised learning : labeled data. We work with features and target variables -the labels-. The challenge here, is based on the features variables or predictor variables (or independent variables), try to predict the target variable (or dependent or response variable). IF:\n",
    "\n",
    "        * > The target variable consists of categories --> classification problem\n",
    "        * > The target variable is continous --> regression problem\n",
    "\n",
    "\n",
    "### Which of these is a classification problem?\n",
    "\n",
    "Once you decide to leverage supervised machine learning to solve a new problem, you need to identify whether your problem is better suited to classification or regression. This exercise will help you develop your intuition for distinguishing between the two.\n",
    "\n",
    "Provided below are 4 example applications of machine learning. Which of them is a supervised classification problem?\n",
    "\n",
    "* [X]Using labeled financial data to predict whether the value of a stock will go up or go down next week.\n",
    "* [_]Using labeled housing price data to predict the price of a new house based on various features.\n",
    "* [_]Using unlabeled data to cluster the students of an online education company into different categories based on their learning styles.\n",
    "* [_]Using labeled financial data to predict what the value of a stock will be next week.\n"
   ]
  },
  {
   "cell_type": "code",
   "execution_count": null,
   "metadata": {
    "collapsed": true
   },
   "outputs": [],
   "source": []
  },
  {
   "cell_type": "code",
   "execution_count": null,
   "metadata": {
    "collapsed": true
   },
   "outputs": [],
   "source": []
  },
  {
   "cell_type": "code",
   "execution_count": null,
   "metadata": {
    "collapsed": true
   },
   "outputs": [],
   "source": []
  },
  {
   "cell_type": "code",
   "execution_count": null,
   "metadata": {
    "collapsed": true
   },
   "outputs": [],
   "source": []
  },
  {
   "cell_type": "code",
   "execution_count": null,
   "metadata": {
    "collapsed": true
   },
   "outputs": [],
   "source": []
  },
  {
   "cell_type": "code",
   "execution_count": null,
   "metadata": {
    "collapsed": true
   },
   "outputs": [],
   "source": []
  },
  {
   "cell_type": "code",
   "execution_count": null,
   "metadata": {
    "collapsed": true
   },
   "outputs": [],
   "source": []
  }
 ],
 "metadata": {
  "kernelspec": {
   "display_name": "Python 3",
   "language": "python",
   "name": "python3"
  },
  "language_info": {
   "codemirror_mode": {
    "name": "ipython",
    "version": 3
   },
   "file_extension": ".py",
   "mimetype": "text/x-python",
   "name": "python",
   "nbconvert_exporter": "python",
   "pygments_lexer": "ipython3",
   "version": "3.6.0"
  }
 },
 "nbformat": 4,
 "nbformat_minor": 2
}
