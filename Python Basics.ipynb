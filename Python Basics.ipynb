{
 "cells": [
  {
   "cell_type": "markdown",
   "metadata": {
    "deletable": true,
    "editable": true
   },
   "source": [
    "# Python basics\n",
    "\n",
    "Here are some links for python beginners:\n",
    "\n",
    "* https://pythonschool.net/category/basics.html\n",
    "\n",
    "* http://www.practicepython.org/exercises/\n",
    "\n",
    "* http://www.datacamp.com/"
   ]
  },
  {
   "cell_type": "markdown",
   "metadata": {
    "deletable": true,
    "editable": true
   },
   "source": [
    "## Collection data types -data structures-\n",
    "\n",
    "Containers are data structures holding elements, and that support membership tests. You might think about them as a real life containers too: a box, house, etc. They are data structures that live in memory, and typically hold all their values in memory, too. We can find six data structures: \n",
    "\n",
    "* String\n",
    "* List\n",
    "* Tuple\n",
    "* Set\n",
    "* Frozenset\n",
    "* Dict (mapping type, similar to Java Hashmap)\n",
    "* Collections (module not built-in)\n",
    "* Heapq (module not built-in)\n",
    "\t\n",
    "The most important reasons for choosing one implementation over the rest are: \n",
    "\n",
    "* Do we need a to keep the given order?\n",
    "* Does the datastructure need to be changed?  \n",
    "* Do we need to keep unique elements or we can accept duplicates?\n",
    "* Is performance relevant for us? Do we need to check membership? Is dataset too big? \n",
    "* Do we need to sort the elements on the dataset in some way? \n",
    "* Do we need to work with the data itself or we can use some indexes in order to gain performance? \n",
    "* What kind of data do my collection going to keep? homegeneous? heterogeneous? \n",
    "\n",
    "\n",
    "### Datastructures comparison\n",
    "\n",
    "\n",
    "|Data structure|Built-in|Immutable|Hashable|Keeps order|Sortable|Unique|Is sequence?|Iterable| Delimiter  |Performace|\n",
    "|-------:------|----:---|----:----|----:---|-----:-----|----:---|---:--|-----:------|--------|-----:------|----:-----|\n",
    "|strings       |    X   |    X    |        |     X     |    X   |      |     X      |   X    |\" \" or ' '  |   slow   |\n",
    "|list          |    X   |         |        |     X     |    X   |      |     X      |   X    |    [ ]     |   slow   |\n",
    "|dict          |    X   |         |        |           |    X   |   X  |            |   X    |    { }     |   fast   |\n",
    "|tuple         |    X   |    X    |    X   |     X     |        |      |     X      |        |    ( )     |   fast   |\n",
    "|set           |    X   |         |        |           |    X   |   X  |            |        |  { ( ) }   |   fast   |\n",
    "|frozenset     |    X   |    X    |    X   |           |        |   X  |            |        |            |   fast   |\n",
    "|collections   | module |         |        |           |    X   |   X  |            |        |Counter({ })|high-perf |\n",
    "|heapq         | module |         |        |           |        |      |            |        |            |high-perf |\n",
    "\n",
    "\n",
    "### Hashing vs Immutability\n",
    "\n",
    "\n",
    "**Hashing** is the process of converting some large amount of data into a much smaller amount (typically a single integer) in a repeatable way so that it can be looked up in a table in constant-time (O(1)), which is important for high-performance algorithms and data structures. An object is hashable if it has a hash value which never changes during its lifetime.\n",
    "\n",
    "**Immutability** is the idea that an object will not change in some important way after it has been created, especially in any way that might change the hash value of that object.\n",
    "\n",
    "The two ideas are related because objects which are used as hash keys must typically be immutable so their hash value doesn't change. If it was allowed to change then the location of that object in a data structure such as a hashtable would change and then the whole purpose of hashing for efficiency is defeated.\n",
    "\n",
    "### Sortable vs ordered\n",
    "\n",
    "**Ordered**: It means that the items come in the same order they have been introduced, so the initial order is kept, thus the data structure is a sequence.  \n",
    "\n",
    "**Sorting** : Sequence objects may be compared to other objects with the same sequence type. The comparison uses lexicographical ordering: first the first two items are compared, and if they differ this determines the outcome of the comparison; if they are equal, the next two items are compared, and so on, until either sequence is exhausted. If two items to be compared are themselves sequences of the same type, the lexicographical comparison is carried out recursively.\n",
    "\n",
    "### Sequence operations (string, list and tuples)\n",
    "\n",
    "|Operation name|Operator |Explanation                               |\n",
    "|-------:------|----:----|----:-------------------------------------|\n",
    "|indexing      |   [ ]   | Access an element of a sequence          |\n",
    "|concatenation |    +    | Combine sequences together               |\n",
    "|repetition    |    *    | Concatenate a repeated number of times   |\n",
    "|membership    |   in    | Ask whether an item is in a sequence     | \n",
    "|length        |   len   | Ask the number of items in the sequence  |\n",
    "|slicing       |   [:]   | Extract a part of a sequence             |   \n",
    "\n",
    "\n"
   ]
  },
  {
   "cell_type": "markdown",
   "metadata": {
    "deletable": true,
    "editable": true
   },
   "source": [
    "### Check membership with asserts"
   ]
  },
  {
   "cell_type": "code",
   "execution_count": 14,
   "metadata": {
    "collapsed": true,
    "deletable": true,
    "editable": true
   },
   "outputs": [],
   "source": [
    "# Check membership\n",
    "# Note: assert is a keyword and not a function\n",
    "\n",
    "assert 1 in [1, 2, 3]  # lists\n",
    "assert 4 not in [1, 2, 3]\n",
    "assert 1 in {1, 2, 3}      # sets\n",
    "assert 4 not in {1, 2, 3}\n",
    "assert 1 in (1, 2, 3)      # tuples\n",
    "assert 4 not in (1, 2, 3)\n"
   ]
  },
  {
   "cell_type": "markdown",
   "metadata": {
    "deletable": true,
    "editable": true
   },
   "source": [
    "### Access to items "
   ]
  },
  {
   "cell_type": "code",
   "execution_count": null,
   "metadata": {
    "collapsed": true,
    "deletable": true,
    "editable": true
   },
   "outputs": [],
   "source": [
    "fruits = { \n",
    "    'apples': {'cost': 3, 'units': 100}, \n",
    "    'bananas': {'cost': 1, 'units': 80},\n",
    "    'grapes': {'cost': 5, 'units': 500}\n",
    "}\n",
    "\n",
    "print(fruits['apples']['cost'])"
   ]
  },
  {
   "cell_type": "markdown",
   "metadata": {
    "deletable": true,
    "editable": true
   },
   "source": [
    "### Constructors"
   ]
  },
  {
   "cell_type": "code",
   "execution_count": 74,
   "metadata": {
    "collapsed": false,
    "deletable": true,
    "editable": true
   },
   "outputs": [
    {
     "name": "stdout",
     "output_type": "stream",
     "text": [
      "x is a        :  <class 'list'> ['hello', 'how', 'are', 'you', '26', 17, 'some_variable'] \n",
      "\n",
      "['how', 'are', 'you', '26', 17, 'some_variable']\n",
      "['how', 'are', 'you', '26', 'some_variable']\n"
     ]
    }
   ],
   "source": [
    "### List Constructor: x=list(), x=[]\n",
    "\n",
    "a = \"some_variable\"\n",
    "x = [\"hello\", \"how\", \"are\", \"you\", \"26\", 17, a]  # lists can be heterogeneous\n",
    "print(\"x is a        : \", type(x), x, \"\\n\")\n",
    "\n",
    "# remove an element using the index\n",
    "del(x[0])\n",
    "print(x)\n",
    "\n",
    "# remove an element using the value\n",
    "x.remove(17)\n",
    "print(x)"
   ]
  },
  {
   "cell_type": "code",
   "execution_count": 16,
   "metadata": {
    "collapsed": false,
    "deletable": true,
    "editable": true
   },
   "outputs": [
    {
     "name": "stdout",
     "output_type": "stream",
     "text": [
      "mytuple is a  :  <class 'tuple'> ('how', 'are', 'you', '26', 17, 'some_variable')\n",
      "mytyple is a hash-able object:  2254645726041592945\n",
      "mytuple2 is a :  <class 'tuple'> (['this', 'is', 'a', 'list'], 'this', 'is', 'a', 'tuple', '!', '!') \n",
      "\n",
      "This tuple contains a list on index=0 :  <class 'list'> ['this', 'is', 'a', 'list']\n",
      "One element has been removed :  ['this', 'is', 'list'] \n",
      "\n"
     ]
    }
   ],
   "source": [
    "### Tuple Constructor\n",
    "\n",
    "mytuple = tuple(x)\n",
    "\n",
    "print(\"mytuple is a  : \", type(mytuple), mytuple)\n",
    "print(\"mytyple is a hash-able object: \", hash(mytuple))\n",
    "# del(mytuple[0])   # TypeError: 'tuple' object doesn't support item deletion, Tuples are immutable!!!\n",
    "mytuple2 = ([\"this\", \"is\", \"a\", \"list\"], \"this\", \"is\", \"a\", \"tuple\", \"!\", \"!\") # Duplicates allowed\n",
    "print(\"mytuple2 is a : \", type(mytuple2), mytuple2, \"\\n\")\n",
    "\n",
    "\n",
    "# tuples are immutable, but they might contain mutable objects like lists\n",
    "\n",
    "print(\"This tuple contains a list on index=0 : \", type(mytuple2[0]), mytuple2[0])\n",
    "del(mytuple2[0][2]) # lists are mutable so, it can be accessed and modified\n",
    "print(\"One element has been removed : \", mytuple2[0], \"\\n\")"
   ]
  },
  {
   "cell_type": "code",
   "execution_count": 17,
   "metadata": {
    "collapsed": false,
    "deletable": true,
    "editable": true
   },
   "outputs": [
    {
     "name": "stdout",
     "output_type": "stream",
     "text": [
      "This set contains a tuple :  <class 'set'> {'Selenium', 'Tellurum', 'Sulfur', ('how', 'are', 'you', '26', 17, 'some_variable'), 'Polonium', 'Oxygen'} \n",
      "\n"
     ]
    },
    {
     "data": {
      "text/plain": [
       "{'Selenium',\n",
       " 'Sulfur',\n",
       " ('how', 'are', 'you', '26', 17, 'some_variable'),\n",
       " 'Polonium',\n",
       " 'Oxygen'}"
      ]
     },
     "execution_count": 17,
     "metadata": {},
     "output_type": "execute_result"
    }
   ],
   "source": [
    "### Set Constructor\n",
    "\n",
    "myset = {\"Oxygen\", \"Sulfur\", \"Selenium\", \"Tellurum\", \"Polonium\", mytuple, \"Oxygen\"} # Sets can only contain immutable elements and unique items\n",
    "\n",
    "print(\"This set contains a tuple : \", type(myset), myset, \"\\n\") # Note that the order is not maintained, and not duplicates are accepted\n",
    "myset.remove(\"Tellurum\") # Sets are mutable, so any element can be removed\n",
    "myset"
   ]
  },
  {
   "cell_type": "code",
   "execution_count": 18,
   "metadata": {
    "collapsed": false,
    "deletable": true,
    "editable": true
   },
   "outputs": [
    {
     "name": "stdout",
     "output_type": "stream",
     "text": [
      "mydict is a  : <class 'dict'> {9: 'Fluor', 17: 'Chlorine', 35: 'Bromine', 53: 'Iodine', 'Astatine': 85} \n",
      "\n",
      "mydict updated  :\n"
     ]
    },
    {
     "data": {
      "text/plain": [
       "{'a': 1, 'b': 2, 'c': 3}"
      ]
     },
     "execution_count": 18,
     "metadata": {},
     "output_type": "execute_result"
    }
   ],
   "source": [
    "### Dict constructor\n",
    "\n",
    "mydict = {9: \"Fluor\", 17: \"Chlorine\", 35: \"Bromine\", 53: \"Iodine\", \"Astatine\":85} # provide value|key pair, otherwise it is a set\n",
    "\n",
    "print(\"mydict is a  :\", type(mydict), mydict, \"\\n\") # Careful: Iodine and Astatine are keys, not values!! \n",
    "mydict[\"Tennessine\"] = 17 # Key: Tennessine, Value = 17\n",
    "mydict[\"Tennessine\"] = 117\n",
    "\n",
    "print(\"mydict updated  :\")\n",
    "mydict\n",
    "\n",
    "list1, list2 = ['a', 'b', 'c'], [1,2,3]\n",
    "dict( zip( list1, list2))\n",
    "{'a': 1, 'c': 3, 'b': 2}"
   ]
  },
  {
   "cell_type": "code",
   "execution_count": 19,
   "metadata": {
    "collapsed": false,
    "deletable": true,
    "editable": true
   },
   "outputs": [
    {
     "name": "stdout",
     "output_type": "stream",
     "text": [
      "myfrozenset is a  : <class 'frozenset'>\n",
      "myfrozenset is a hash-able object: 4514583614292879719\n"
     ]
    },
    {
     "data": {
      "text/plain": [
       "frozenset({'Aluminium', 'Boron', 'Galium', 'Indium', 'Thalium'})"
      ]
     },
     "execution_count": 19,
     "metadata": {},
     "output_type": "execute_result"
    }
   ],
   "source": [
    "### Frozenset constructor\n",
    "\n",
    "myfrozenset = frozenset({\"Boron\", \"Aluminium\", \"Galium\", \"Indium\", \"Thalium\", \"Boron\"}) # No duplicates allowed\n",
    "\n",
    "print(\"myfrozenset is a  :\", type(myfrozenset))\n",
    "print(\"myfrozenset is a hash-able object:\", hash(myfrozenset))\n",
    "\n",
    "myfrozenset"
   ]
  },
  {
   "cell_type": "code",
   "execution_count": 20,
   "metadata": {
    "collapsed": false,
    "deletable": true,
    "editable": true
   },
   "outputs": [
    {
     "name": "stdout",
     "output_type": "stream",
     "text": [
      "{'earth': 1, 'jupiter': 5.32}\n"
     ]
    }
   ],
   "source": [
    "escape_velocity = {\n",
    "    'earth': 1, \n",
    "    'jupiter': 5.32,\n",
    "    'saturn': 3.17\n",
    "}\n",
    "del(escape_velocity['saturn'])\n",
    "print(escape_velocity)"
   ]
  },
  {
   "cell_type": "markdown",
   "metadata": {
    "deletable": true,
    "editable": true
   },
   "source": [
    "### Comprehensions\n",
    "\n",
    "enum() is a method that allows us to loop over something and have an automatic counter. Even if we are applying enum() over a list, we can format the output to a list, dict, tuple or set depending on the comprehension specified:\n"
   ]
  },
  {
   "cell_type": "code",
   "execution_count": 21,
   "metadata": {
    "collapsed": false,
    "deletable": true,
    "editable": true
   },
   "outputs": [
    {
     "data": {
      "text/plain": [
       "[(0, 'a'), (1, 'b'), (2, 'c'), (3, 'd')]"
      ]
     },
     "execution_count": 21,
     "metadata": {},
     "output_type": "execute_result"
    }
   ],
   "source": [
    "# Given a list\n",
    "mylist = [\"a\",\"b\",\"c\",\"d\"]  # [] list\n",
    "\n",
    "# This comprehension returns a list of tuples:\n",
    "[(i, j) for i, j in enumerate(mylist)]  # returns a list of tuples [()]"
   ]
  },
  {
   "cell_type": "code",
   "execution_count": 22,
   "metadata": {
    "collapsed": false,
    "deletable": true,
    "editable": true
   },
   "outputs": [
    {
     "data": {
      "text/plain": [
       "[(0, 'a'), (1, 'b'), (2, 'c'), (3, 'd')]"
      ]
     },
     "execution_count": 22,
     "metadata": {},
     "output_type": "execute_result"
    }
   ],
   "source": [
    "# Alternatively, given that enumerate() already returns a tuple, \n",
    "# you can return it directly without unpacking it first:\n",
    "\n",
    "[pair for pair in enumerate(mylist)] # returns a list"
   ]
  },
  {
   "cell_type": "code",
   "execution_count": 23,
   "metadata": {
    "collapsed": false,
    "deletable": true,
    "editable": true
   },
   "outputs": [
    {
     "data": {
      "text/plain": [
       "{0: 'a', 1: 'b', 2: 'c', 3: 'd'}"
      ]
     },
     "execution_count": 23,
     "metadata": {},
     "output_type": "execute_result"
    }
   ],
   "source": [
    "# This comprehension returns a dict: \n",
    "{i:j for i,j in enumerate(mylist)} # returns a dict{}"
   ]
  },
  {
   "cell_type": "code",
   "execution_count": 24,
   "metadata": {
    "collapsed": false,
    "deletable": true,
    "editable": true
   },
   "outputs": [
    {
     "data": {
      "text/plain": [
       "[(0, 'a'),\n",
       " (0, 'b'),\n",
       " (0, 'c'),\n",
       " (1, 'a'),\n",
       " (1, 'b'),\n",
       " (1, 'c'),\n",
       " (2, 'a'),\n",
       " (2, 'b'),\n",
       " (2, 'c')]"
      ]
     },
     "execution_count": 24,
     "metadata": {},
     "output_type": "execute_result"
    }
   ],
   "source": [
    "# This list comprehension returns a list of tuples:\n",
    "\n",
    "# constructor for range function range(start, stop[, step]), if no step, default value is 1\n",
    "[(i,j) for i in range(3) for j in 'abc'] # two iterators, returns a list [()]"
   ]
  },
  {
   "cell_type": "code",
   "execution_count": 25,
   "metadata": {
    "collapsed": false,
    "deletable": true,
    "editable": true
   },
   "outputs": [
    {
     "data": {
      "text/plain": [
       "[{0: 'a'},\n",
       " {0: 'b'},\n",
       " {0: 'c'},\n",
       " {1: 'a'},\n",
       " {1: 'b'},\n",
       " {1: 'c'},\n",
       " {2: 'a'},\n",
       " {2: 'b'},\n",
       " {2: 'c'}]"
      ]
     },
     "execution_count": 25,
     "metadata": {},
     "output_type": "execute_result"
    }
   ],
   "source": [
    "# This a list of dicts: \n",
    "[{i:j} for i in range(3) for j in 'abc'] # two iterators, returns a list of dicts [{}]"
   ]
  },
  {
   "cell_type": "code",
   "execution_count": 26,
   "metadata": {
    "collapsed": false,
    "deletable": true,
    "editable": true
   },
   "outputs": [
    {
     "data": {
      "text/plain": [
       "[[0, 'a'],\n",
       " [0, 'b'],\n",
       " [0, 'c'],\n",
       " [1, 'a'],\n",
       " [1, 'b'],\n",
       " [1, 'c'],\n",
       " [2, 'a'],\n",
       " [2, 'b'],\n",
       " [2, 'c']]"
      ]
     },
     "execution_count": 26,
     "metadata": {},
     "output_type": "execute_result"
    }
   ],
   "source": [
    "# A list of lists:\n",
    "[[i,j] for i in range(3) for j in 'abc'] # returns a list of lists [[]]"
   ]
  },
  {
   "cell_type": "code",
   "execution_count": 27,
   "metadata": {
    "collapsed": false,
    "deletable": true,
    "editable": true
   },
   "outputs": [
    {
     "data": {
      "text/plain": [
       "{(0, 'a'), (1, 'b'), (2, 'c'), (3, 'd'), (4, 'e'), (5, 'f')}"
      ]
     },
     "execution_count": 27,
     "metadata": {},
     "output_type": "execute_result"
    }
   ],
   "source": [
    "# And a set of tuples: \n",
    "{(i,j) for i,j in enumerate('abcdef')} # returns a set {()}"
   ]
  },
  {
   "cell_type": "code",
   "execution_count": 28,
   "metadata": {
    "collapsed": false,
    "deletable": true,
    "editable": true
   },
   "outputs": [
    {
     "data": {
      "text/plain": [
       "[(0, 'a'), (1, 'b'), (2, 'c'), (3, 'd'), (4, 'e'), (5, 'f')]"
      ]
     },
     "execution_count": 28,
     "metadata": {},
     "output_type": "execute_result"
    }
   ],
   "source": [
    "# You can just pass the enumerate tuple directly:\n",
    "[t for t in enumerate('abcdef') ]  # returns a list of tuples [()]"
   ]
  },
  {
   "cell_type": "code",
   "execution_count": 29,
   "metadata": {
    "collapsed": false,
    "deletable": true,
    "editable": true
   },
   "outputs": [
    {
     "name": "stdout",
     "output_type": "stream",
     "text": [
      "1 apple\n",
      "2 banana\n",
      "3 grapes\n",
      "4 pear\n"
     ]
    }
   ],
   "source": [
    "my_list = ['apple', 'banana', 'grapes', 'pear']\n",
    "for c, value in enumerate(my_list, 1):  \n",
    "    print(c, value)"
   ]
  },
  {
   "cell_type": "code",
   "execution_count": 30,
   "metadata": {
    "collapsed": false,
    "deletable": true,
    "editable": true
   },
   "outputs": [
    {
     "name": "stdout",
     "output_type": "stream",
     "text": [
      "[(0, 'apple'), (1, 'banana'), (2, 'grapes'), (3, 'pear')]\n"
     ]
    }
   ],
   "source": [
    "# You can also create tuples containing the index and list item using a list\n",
    "counter_list = list(enumerate(my_list, 0))\n",
    "print(counter_list)"
   ]
  },
  {
   "cell_type": "code",
   "execution_count": 31,
   "metadata": {
    "collapsed": false,
    "deletable": true,
    "editable": true
   },
   "outputs": [
    {
     "name": "stdout",
     "output_type": "stream",
     "text": [
      "Type of a :  <class 'str'>\n",
      "Type of b :  <class 'list'>\n"
     ]
    }
   ],
   "source": [
    "a = \"hello\"\n",
    "\n",
    "print(\"Type of a : \", type(a))\n",
    "\n",
    "b = sorted(a)\n",
    "\n",
    "print(\"Type of b : \", type(b))"
   ]
  },
  {
   "cell_type": "code",
   "execution_count": 32,
   "metadata": {
    "collapsed": false,
    "deletable": true,
    "editable": true
   },
   "outputs": [
    {
     "name": "stdout",
     "output_type": "stream",
     "text": [
      "<class 'list'>\n",
      "apple\n",
      "banana\n",
      "orange\n",
      "pear\n",
      "A set from a list :  <class 'set'>\n",
      "An ordered set is a list :  <class 'list'>\n"
     ]
    }
   ],
   "source": [
    "basket = ['apple', 'orange', 'apple', 'pear', 'orange', 'banana']\n",
    "print(type(basket))\n",
    "\n",
    "for f in sorted(set(basket)):\n",
    "    print(f)\n",
    "\n",
    "b = set(basket)    \n",
    "    \n",
    "print(\"A set from a list : \", type(b))\n",
    "print(\"An ordered set is a list : \", type(sorted(set(basket))))"
   ]
  },
  {
   "cell_type": "code",
   "execution_count": 33,
   "metadata": {
    "collapsed": false,
    "deletable": true,
    "editable": true
   },
   "outputs": [
    {
     "name": "stdout",
     "output_type": "stream",
     "text": [
      "<class 'collections.Counter'>\n",
      "<class 'set'> Counter({'blue': 3, 'red': 2, 'green': 1})\n"
     ]
    }
   ],
   "source": [
    "from collections import Counter\n",
    "\n",
    "# Tally occurrences of words in a list\n",
    "cnt = Counter()\n",
    "\n",
    "print(type(cnt))\n",
    "\n",
    "for word in ['red', 'blue', 'red', 'green', 'blue', 'blue']:\n",
    "    cnt[word] += 1\n",
    "cnt\n",
    "\n",
    "print(type(b), cnt)"
   ]
  },
  {
   "cell_type": "code",
   "execution_count": 34,
   "metadata": {
    "collapsed": false,
    "deletable": true,
    "editable": true
   },
   "outputs": [
    {
     "name": "stdout",
     "output_type": "stream",
     "text": [
      "11.25\n",
      "9.5\n",
      "69.5\n"
     ]
    }
   ],
   "source": [
    "# Create the areas list\n",
    "areas = [\"hallway\", 11.25, \"kitchen\", 18.0, \"living room\", 20.0, \"bedroom\", 10.75, \"bathroom\", 9.50]\n",
    "\n",
    "# Print out second element from areas\n",
    "print(areas[1])\n",
    "\n",
    "# Print out last element from areas\n",
    "print(areas[-1])\n",
    "\n",
    "# Print out the area of the living room\n",
    "sum_areas = 0\n",
    "\n",
    "\n",
    "for i in range(len(areas)):\n",
    "    \n",
    "    if type(areas[i]) == float:\n",
    "        \n",
    "        sum_areas += areas[i]\n",
    "        \n",
    "print(sum_areas)"
   ]
  },
  {
   "cell_type": "code",
   "execution_count": 35,
   "metadata": {
    "collapsed": false,
    "deletable": true,
    "editable": true
   },
   "outputs": [
    {
     "name": "stdout",
     "output_type": "stream",
     "text": [
      "[11.25, 18.0, 20.0, 10.75, 9.5]\n"
     ]
    }
   ],
   "source": [
    "# Create list areas\n",
    "areas = [11.25, 18.0, 20.0, 10.75, 9.50]\n",
    "\n",
    "# Create areas_copy\n",
    "areas_copy = list(areas)\n",
    "\n",
    "# Change areas_copy\n",
    "areas_copy[0] = 5.0\n",
    "\n",
    "# Print areas\n",
    "print(areas)"
   ]
  },
  {
   "cell_type": "markdown",
   "metadata": {
    "deletable": true,
    "editable": true
   },
   "source": [
    "## Maps and filters"
   ]
  },
  {
   "cell_type": "code",
   "execution_count": 36,
   "metadata": {
    "collapsed": false,
    "deletable": true,
    "editable": true
   },
   "outputs": [
    {
     "name": "stdout",
     "output_type": "stream",
     "text": [
      "<class 'range'>\n"
     ]
    }
   ],
   "source": [
    "x = range(10)\n",
    "\n",
    "print(type(x))\n",
    "\n",
    "def divis_by_5(num):\n",
    "    return num % 5 == 0\n",
    "    "
   ]
  },
  {
   "cell_type": "code",
   "execution_count": 37,
   "metadata": {
    "collapsed": false,
    "deletable": true,
    "editable": true
   },
   "outputs": [
    {
     "name": "stdout",
     "output_type": "stream",
     "text": [
      "<map object at 0x11bdf1588>\n"
     ]
    }
   ],
   "source": [
    "print(map(divis_by_5, x))"
   ]
  },
  {
   "cell_type": "code",
   "execution_count": 38,
   "metadata": {
    "collapsed": false,
    "deletable": true,
    "editable": true
   },
   "outputs": [
    {
     "data": {
      "text/plain": [
       "<filter at 0x11bdf1d68>"
      ]
     },
     "execution_count": 38,
     "metadata": {},
     "output_type": "execute_result"
    }
   ],
   "source": [
    "filter(divis_by_5, x)"
   ]
  },
  {
   "cell_type": "code",
   "execution_count": 1,
   "metadata": {
    "collapsed": false,
    "deletable": true,
    "editable": true
   },
   "outputs": [
    {
     "name": "stdout",
     "output_type": "stream",
     "text": [
      "[4, 8, 3]\n"
     ]
    }
   ],
   "source": [
    "x = [4, 8, -2, -6, 3]\n",
    "greater_than_zero = filter(lambda n: (n > 0), x)\n",
    "print(list(greater_than_zero))"
   ]
  },
  {
   "cell_type": "markdown",
   "metadata": {
    "deletable": true,
    "editable": true
   },
   "source": [
    "## User input"
   ]
  },
  {
   "cell_type": "code",
   "execution_count": 39,
   "metadata": {
    "collapsed": false,
    "deletable": true,
    "editable": true
   },
   "outputs": [
    {
     "name": "stdout",
     "output_type": "stream",
     "text": [
      "the type is \n",
      "(3.5, 2.3333333333333335)\n"
     ]
    }
   ],
   "source": [
    "def check_type(**kwargs):\n",
    "    return type(kwargs)\n",
    "\n",
    "print(\"the type is \")\n",
    "check_type(a = 1, b = 2, c = 3)\n",
    "\n",
    "\n",
    "def mean(*args):\n",
    "    \"\"\"Returns the mean of all the numbers\"\"\"\n",
    "    total_sum = 0 # Intial sum\n",
    "    n = len(args) # Number of arguments\n",
    "    for x in 3,4:\n",
    "        total_sum = total_sum + x\n",
    "    return total_sum/n\n",
    "print((mean(3, 4), mean(40, 45, 50)))\n",
    "\n"
   ]
  },
  {
   "cell_type": "code",
   "execution_count": 40,
   "metadata": {
    "collapsed": false,
    "deletable": true,
    "editable": true
   },
   "outputs": [
    {
     "name": "stdout",
     "output_type": "stream",
     "text": [
      "[1, 1, 1, 0]\n"
     ]
    }
   ],
   "source": [
    "\n",
    "x = ['regulation', 'authorize', 'precaution', 'myth']\n",
    "count_vowel = list(map(lambda word: word.count('i'), x))\n",
    "print(count_vowel)"
   ]
  },
  {
   "cell_type": "code",
   "execution_count": 41,
   "metadata": {
    "collapsed": false,
    "deletable": true,
    "editable": true
   },
   "outputs": [
    {
     "name": "stdout",
     "output_type": "stream",
     "text": [
      "The value of x is 15\n",
      "The value of y is 30\n"
     ]
    }
   ],
   "source": [
    "def easy_print(**kwargs):\n",
    "        for p, q in kwargs.items():\n",
    "            print('The value of ' + str(p) + \" is \" + str(q))\n",
    "easy_print(\n",
    "x=15, y=30\n",
    ")"
   ]
  },
  {
   "cell_type": "markdown",
   "metadata": {
    "deletable": true,
    "editable": true
   },
   "source": [
    "## Other python 3.x objects"
   ]
  },
  {
   "cell_type": "code",
   "execution_count": 42,
   "metadata": {
    "collapsed": false,
    "deletable": true,
    "editable": true
   },
   "outputs": [
    {
     "name": "stdout",
     "output_type": "stream",
     "text": [
      "<class 'range'>\n",
      "90\n"
     ]
    }
   ],
   "source": [
    "y = range(29, 32)\n",
    "\n",
    "print (type(y))\n",
    "\n",
    "print(sum(y))\n"
   ]
  },
  {
   "cell_type": "code",
   "execution_count": 43,
   "metadata": {
    "collapsed": false,
    "deletable": true,
    "editable": true
   },
   "outputs": [
    {
     "name": "stdout",
     "output_type": "stream",
     "text": [
      "<class 'range'>\n",
      "100\n",
      "101\n",
      "102\n",
      "103\n"
     ]
    }
   ],
   "source": [
    "x = range(100, 104)\n",
    "\n",
    "print(type(x))\n",
    "\n",
    "for i in x:\n",
    "    print(i)"
   ]
  },
  {
   "cell_type": "code",
   "execution_count": 44,
   "metadata": {
    "collapsed": false,
    "deletable": true,
    "editable": true
   },
   "outputs": [
    {
     "name": "stdout",
     "output_type": "stream",
     "text": [
      "[('The Hulk', 'Bruce Banner'), ('Iron Man', 'Tony Stark')]\n",
      "<zip object at 0x11bdfde48>\n"
     ]
    }
   ],
   "source": [
    "characters = ['The Hulk', 'Iron Man']\n",
    "names = ['Bruce Banner', 'Tony Stark']\n",
    "\n",
    "ave_1 = zip(characters, names)\n",
    "avengers = list(ave_1)\n",
    "print(avengers)\n",
    "\n",
    "print(ave_1)"
   ]
  },
  {
   "cell_type": "markdown",
   "metadata": {
    "deletable": true,
    "editable": true
   },
   "source": [
    "## More exercises..."
   ]
  },
  {
   "cell_type": "code",
   "execution_count": 45,
   "metadata": {
    "collapsed": false,
    "deletable": true,
    "editable": true
   },
   "outputs": [
    {
     "name": "stdout",
     "output_type": "stream",
     "text": [
      "<str_iterator object at 0x11bdf71d0>\n",
      "C i s c o   R a m o n\n"
     ]
    }
   ],
   "source": [
    "vibe = iter('Cisco Ramon')\n",
    "print(vibe)\n",
    "print(*vibe)"
   ]
  },
  {
   "cell_type": "markdown",
   "metadata": {
    "deletable": true,
    "editable": true
   },
   "source": []
  },
  {
   "cell_type": "code",
   "execution_count": null,
   "metadata": {
    "collapsed": true,
    "deletable": true,
    "editable": true
   },
   "outputs": [],
   "source": [
    "Which option replaces the ___ in the following function definition?\n",
    "\n",
    "def mile_to_km(x):\n",
    "    \"\"\"Converts miles to kilometers\"\"\"\n",
    "    try:\n",
    "        return x * 1.609\n",
    "    except TypeError:\n",
    "        print('x must be int or float')\n",
    "\n",
    "raise\n",
    "NameError\n",
    "TypeError\n",
    "ValueError"
   ]
  },
  {
   "cell_type": "code",
   "execution_count": null,
   "metadata": {
    "collapsed": true,
    "deletable": true,
    "editable": true
   },
   "outputs": [],
   "source": [
    "def mean(*x):\n",
    "    \"\"\"Returns the mean of all the numbers\"\"\"\n",
    "    total_sum = 0 # Intial sum\n",
    "    n = len(x) # Number of arguments\n",
    "    for i in x:\n",
    "        total_sum = total_sum + i\n",
    "    return total_sum/n\n",
    "print((mean(2, 3), mean(30, 35, 40)))"
   ]
  },
  {
   "cell_type": "code",
   "execution_count": null,
   "metadata": {
    "collapsed": true,
    "deletable": true,
    "editable": true
   },
   "outputs": [],
   "source": [
    "avengers = ['maria hill', 'phil coulson', 'nick fury']\n",
    "AVENGERS = [y.upper() for y in avengers]\n",
    "print(AVENGERS)"
   ]
  },
  {
   "cell_type": "code",
   "execution_count": null,
   "metadata": {
    "collapsed": true,
    "deletable": true,
    "editable": true
   },
   "outputs": [],
   "source": [
    "flash_vil = ['Hunter Zolomon', 'Savitar', 'Eobard Thawne']\n",
    "for i, b in enumerate(flash_vil):\n",
    "    print(str(i) + ': ' + b)\n",
    "\n"
   ]
  },
  {
   "cell_type": "code",
   "execution_count": null,
   "metadata": {
    "collapsed": true,
    "deletable": true,
    "editable": true
   },
   "outputs": [],
   "source": [
    "z = \"cautioned\"\n",
    "print(z.replace(\"a\", \"/\"))\n",
    "\n",
    "p = [3, 18, 15, 4, 8, 4]\n",
    "print(sorted(p, reverse=False))\n",
    "\n",
    "foo = [0, 5.22, \"A\", \"Tue\", 1.2]\n",
    "foo[2:4] = [\"Sun\", \"Mon\"] # replaces and removes one element\n",
    "print(foo)"
   ]
  },
  {
   "cell_type": "markdown",
   "metadata": {
    "collapsed": true,
    "deletable": true,
    "editable": true
   },
   "source": [
    "## Numpy arrays\n",
    "\n",
    "* **Homogeneus in type: Numpy arrays cannot contain elements with different types.** If you try to build such a list, some of the elements' types are changed to end up with a homogenous list. This is known as type coercion.\n",
    "\n",
    "\n",
    "\n",
    "* Calculations all at once \n",
    "\n",
    "* **Indexing with brackets:**\n",
    "    * 1D array --> A[index]\n",
    "    * 2D arrays --> A[index0, index1]\n",
    "    \n",
    "    \n",
    "    \n",
    "* **Slicing arrays:** \n",
    "    * 1D array --> A[slice]\n",
    "    * 2D arrays --> A[slice0, slice1]\n",
    "    * slice = start:stop:stride\n",
    "        * Indexes from the start to the stop-1 in steps of stride\n",
    "        * Missing start : implicitly at the beginning of array\n",
    "        * Missing stop : implicitly at the end of array\n",
    "        * Missing stride : implicitly stride 1\n",
    "    * Negative indexes/slices: count from the end of the array\n",
    "    "
   ]
  },
  {
   "cell_type": "code",
   "execution_count": 2,
   "metadata": {
    "collapsed": false,
    "deletable": true,
    "editable": true
   },
   "outputs": [
    {
     "name": "stdout",
     "output_type": "stream",
     "text": [
      "[[4]\n",
      " [3]]\n",
      "[15 12]\n",
      "[[ 8 81]\n",
      " [ 6 89]\n",
      " [ 9 82]\n",
      " [ 1 78]\n",
      " [ 8 89]\n",
      " [ 0 60]]\n"
     ]
    }
   ],
   "source": [
    "import numpy as np\n",
    "z = np.array([[7, 0, 4], \n",
    "              [2, 3, 3]])\n",
    "print(z[0:, 2:])\n",
    "\n",
    "\n",
    "x = np.array([11, 15, 12, 3, 12, 15])\n",
    "print(x[1:3])\n",
    "\n",
    "store = np.array([8, 6, 9, 1, 8, 0])\n",
    "cost  = np.array([81, 89, 82, 78, 89, 60])\n",
    "np_cols = np.column_stack((store, cost))\n",
    "print(np_cols)"
   ]
  },
  {
   "cell_type": "code",
   "execution_count": 4,
   "metadata": {
    "collapsed": false,
    "deletable": true,
    "editable": true
   },
   "outputs": [
    {
     "name": "stdout",
     "output_type": "stream",
     "text": [
      "[[10  8  5 24]\n",
      " [16 23 25 22]]\n",
      "[[10 16]\n",
      " [ 8 23]\n",
      " [ 5 25]\n",
      " [24 22]]\n",
      "(2, 4)\n",
      "(4, 2)\n"
     ]
    }
   ],
   "source": [
    "x = np.array([10, 8, 5, 24])\n",
    "y = np.array([16, 23, 25, 22])\n",
    "w = np.stack([x, y])\n",
    "print(w)\n",
    "z = np.column_stack([x, y])\n",
    "print(z)\n",
    "print(w.shape)\n",
    "print(z.shape)"
   ]
  },
  {
   "cell_type": "code",
   "execution_count": null,
   "metadata": {
    "collapsed": true,
    "deletable": true,
    "editable": true
   },
   "outputs": [],
   "source": [
    "import numpy as np\n",
    "x = np.array([4, 7, 5, 7, 5, 4, 5, 7])\n",
    "y = np.array([1, 6, 0, 5, 0, 6, 4, 8])\n",
    "print(np.corrcoef(x, y))"
   ]
  },
  {
   "cell_type": "code",
   "execution_count": null,
   "metadata": {
    "collapsed": true,
    "deletable": true,
    "editable": true
   },
   "outputs": [],
   "source": [
    "# Operations with ndarray objects\n",
    "\n",
    "import numpy as np\n",
    "\n",
    "m = np.array([6, 4, 2])\n",
    "n = np.array([True, False, True])\n",
    "# print(type(m))\n",
    "print(m + n)"
   ]
  },
  {
   "cell_type": "code",
   "execution_count": null,
   "metadata": {
    "collapsed": true,
    "deletable": true,
    "editable": true
   },
   "outputs": [],
   "source": [
    "sales[np.logical_or(sales['product'] == 'A', sales['sold'] > 100)]"
   ]
  },
  {
   "cell_type": "code",
   "execution_count": null,
   "metadata": {
    "collapsed": true,
    "deletable": true,
    "editable": true
   },
   "outputs": [],
   "source": [
    "from sklearn.model_selection import StratifiedShuffleSplit\n",
    "import numpy as np\n",
    "\n",
    "X = np.array([[5, 2], [3, 4], [1, 2], [3, 4]])\n",
    "y = np.array([0, 0, 1, 1])\n",
    "\n",
    "\n",
    "print(\"0\", X[0])\n",
    "print(\"1\", X[1])\n",
    "print(\"2\", X[2])\n",
    "print(\"3\", X[3])\n",
    "\n",
    "# try different values for test_size, and try to understand the result. 0.4 and 0.3 are safe values. \n",
    "sss = StratifiedShuffleSplit(n_splits=3, test_size=0.5, random_state=0)\n",
    "sss.get_n_splits(X, y)\n",
    "   \n",
    "\n",
    "StratifiedShuffleSplit(n_splits=3, random_state=0)\n",
    "\n",
    "for train_index, test_index in sss.split(X, y):\n",
    "    print(\"TRAIN:\", train_index, \"TEST:\", test_index)\n",
    "    X_train, X_test = X[train_index], X[test_index]\n",
    "    print(\"X train index: \", X[train_index])\n",
    "    print(\"X test index: \", X[test_index])\n",
    "    \n",
    "    y_train, y_test = y[train_index], y[test_index]"
   ]
  },
  {
   "cell_type": "code",
   "execution_count": null,
   "metadata": {
    "collapsed": true,
    "deletable": true,
    "editable": true
   },
   "outputs": [],
   "source": [
    "# Slicing operations \n",
    "import numpy as np\n",
    "z = np.array([[7, 0, 4], \n",
    "              [2, 3, 3]])\n",
    "print(z[0:, 2:])\n",
    "\n",
    "\n",
    "x = np.array([11, 15, 12, 3, 12, 15])\n",
    "print(x[1:3])\n",
    "\n"
   ]
  },
  {
   "cell_type": "code",
   "execution_count": null,
   "metadata": {
    "collapsed": true,
    "deletable": true,
    "editable": true
   },
   "outputs": [],
   "source": [
    "# Stack columns\n",
    "\n",
    "store = np.array([8, 6, 9, 1, 8, 0])\n",
    "cost  = np.array([81, 89, 82, 78, 89, 60])\n",
    "np_cols = np.column_stack((store, cost))\n",
    "print(np_cols)"
   ]
  },
  {
   "cell_type": "code",
   "execution_count": null,
   "metadata": {
    "collapsed": true,
    "deletable": true,
    "editable": true
   },
   "outputs": [],
   "source": [
    "# Iterator\n",
    "\n",
    "import numpy as np\n",
    "x = np.array([[2, 1, 0],\n",
    "              [6, 6, 5]])\n",
    "for i in np.nditer(x):\n",
    "    print(i)"
   ]
  },
  {
   "cell_type": "code",
   "execution_count": 10,
   "metadata": {
    "collapsed": true,
    "deletable": true,
    "editable": true
   },
   "outputs": [],
   "source": [
    "# save ndarray object to txt/csv\n",
    "\n",
    "import numpy\n",
    "a = numpy.asarray([ [6,2,3], [4,3,6], [9,8,5] ])\n",
    "numpy.savetxt(\"datasets/foo.csv\", a, delimiter=',')\n"
   ]
  },
  {
   "cell_type": "code",
   "execution_count": 11,
   "metadata": {
    "collapsed": false,
    "deletable": true,
    "editable": true
   },
   "outputs": [
    {
     "name": "stdout",
     "output_type": "stream",
     "text": [
      "[[ 6.  2.  3.]\n",
      " [ 4.  3.  6.]\n",
      " [ 9.  8.  5.]]\n"
     ]
    }
   ],
   "source": [
    "from numpy import genfromtxt\n",
    "my_data = genfromtxt('datasets/foo.csv', delimiter=',')\n",
    "print(my_data)"
   ]
  },
  {
   "cell_type": "code",
   "execution_count": 5,
   "metadata": {
    "collapsed": false,
    "deletable": true,
    "editable": true
   },
   "outputs": [
    {
     "name": "stdout",
     "output_type": "stream",
     "text": [
      "[[ 1.          0.23243927]\n",
      " [ 0.23243927  1.        ]]\n"
     ]
    }
   ],
   "source": [
    "x = np.array([4, 7, 4, 5, 7, 4, 4, 4])\n",
    "y = np.array([0, 5, 3, 9, 3, 1, 7, 2])\n",
    "print(np.corrcoef(x, y))"
   ]
  },
  {
   "cell_type": "markdown",
   "metadata": {
    "deletable": true,
    "editable": true
   },
   "source": [
    "## Pandas and Dataframes\n",
    "\n",
    "\n",
    "A Dataframe is a two-dimensional size-mutable, potentially heterogeneous tabular data structure with labeled axes (rows and columns). Arithmetic operations align on both row and column labels. Can be thought of as a dict-like container for Series objects. The primary pandas data structure. \n",
    "\n",
    "The Series is the datastructure for a single column of a DataFrame, not only conceptually, but literally i.e. the data in a DataFrame is actually stored in memory as a collection of Series. \n",
    "\n",
    "* Labelled tabular data structure\n",
    "* Labels on rows: index\n",
    "* Labels on columns: columns\n",
    "* Columns are pandas Series"
   ]
  },
  {
   "cell_type": "markdown",
   "metadata": {
    "deletable": true,
    "editable": true
   },
   "source": [
    "### Iterators for Dataframes"
   ]
  },
  {
   "cell_type": "code",
   "execution_count": null,
   "metadata": {
    "collapsed": true,
    "deletable": true,
    "editable": true
   },
   "outputs": [],
   "source": [
    "# Import the csv file located at the url \"link_to_df\" in small dataframe chunks of size 4\n",
    "# Print the second chunk of this dataframe\n",
    "import pandas as pd\n",
    "link_to_iris = 'https://goo.gl/BR8npa'\n",
    "iris = pd.read_csv(link_to_iris, chunksize = 4)\n",
    "next(iris)\n",
    "print(next(iris))\n",
    "\n"
   ]
  },
  {
   "cell_type": "code",
   "execution_count": 63,
   "metadata": {
    "collapsed": false,
    "deletable": true,
    "editable": true
   },
   "outputs": [
    {
     "name": "stdout",
     "output_type": "stream",
     "text": [
      "      month\n",
      "0   January\n",
      "1  February\n",
      "2     March\n"
     ]
    },
    {
     "ename": "TypeError",
     "evalue": "tuple indices must be integers or slices, not str",
     "output_type": "error",
     "traceback": [
      "\u001b[0;31m---------------------------------------------------------------------------\u001b[0m",
      "\u001b[0;31mTypeError\u001b[0m                                 Traceback (most recent call last)",
      "\u001b[0;32m<ipython-input-63-aaa3cb616392>\u001b[0m in \u001b[0;36m<module>\u001b[0;34m()\u001b[0m\n\u001b[1;32m      4\u001b[0m \u001b[0;34m\u001b[0m\u001b[0m\n\u001b[1;32m      5\u001b[0m \u001b[0;32mfor\u001b[0m \u001b[0mp\u001b[0m \u001b[0;32min\u001b[0m \u001b[0mlogins\u001b[0m\u001b[0;34m.\u001b[0m\u001b[0miterrows\u001b[0m\u001b[0;34m(\u001b[0m\u001b[0;34m)\u001b[0m\u001b[0;34m:\u001b[0m\u001b[0;34m\u001b[0m\u001b[0m\n\u001b[0;32m----> 6\u001b[0;31m     \u001b[0mlogins\u001b[0m\u001b[0;34m.\u001b[0m\u001b[0mloc\u001b[0m\u001b[0;34m[\u001b[0m\u001b[0;34m'month'\u001b[0m\u001b[0;34m]\u001b[0m \u001b[0;34m=\u001b[0m \u001b[0mp\u001b[0m\u001b[0;34m[\u001b[0m\u001b[0;34m'MONTH'\u001b[0m\u001b[0;34m]\u001b[0m\u001b[0;34m.\u001b[0m\u001b[0mlower\u001b[0m\u001b[0;34m(\u001b[0m\u001b[0;34m)\u001b[0m\u001b[0;34m\u001b[0m\u001b[0m\n\u001b[0m\u001b[1;32m      7\u001b[0m \u001b[0mprint\u001b[0m\u001b[0;34m(\u001b[0m\u001b[0mlogins\u001b[0m\u001b[0;34m)\u001b[0m\u001b[0;34m\u001b[0m\u001b[0m\n",
      "\u001b[0;31mTypeError\u001b[0m: tuple indices must be integers or slices, not str"
     ]
    }
   ],
   "source": [
    "\n",
    "\n",
    "for i, p in logins.iterrows():\n",
    "    logins.loc[i, 'month'] = p['MONTH'].lower()\n",
    "print(logins)"
   ]
  },
  {
   "cell_type": "code",
   "execution_count": 1,
   "metadata": {
    "collapsed": false,
    "deletable": true,
    "editable": true
   },
   "outputs": [
    {
     "name": "stdout",
     "output_type": "stream",
     "text": [
      "[ 3.   4.   0.   1.   5.2]\n"
     ]
    }
   ],
   "source": [
    "import numpy as np\n",
    "x = np.array([3, 4, False, True, 5.2])\n",
    "print(x)"
   ]
  },
  {
   "cell_type": "code",
   "execution_count": null,
   "metadata": {
    "collapsed": true,
    "deletable": true,
    "editable": true
   },
   "outputs": [],
   "source": []
  },
  {
   "cell_type": "markdown",
   "metadata": {
    "deletable": true,
    "editable": true
   },
   "source": [
    "## References\n",
    "\n",
    "* http://www.datacamp.com\n",
    "* https://docs.python.org/3.3/tutorial/datastructures.html#dictionaries\n",
    "* http://nvie.com/posts/iterators-vs-generators/\n",
    "* http://www.thomas-cokelaer.info/tutorials/python/data_structures.html\n",
    "* http://interactivepython.org/\n",
    "* http://stackoverflow.com/questions/2671376/hashable-immutable\n",
    "* https://docs.python.org/3.6/library/functions.html\n",
    "* http://anandology.com/python-practice-book/iterators.html"
   ]
  }
 ],
 "metadata": {
  "kernelspec": {
   "display_name": "Python 3",
   "language": "python",
   "name": "python3"
  },
  "language_info": {
   "codemirror_mode": {
    "name": "ipython",
    "version": 3
   },
   "file_extension": ".py",
   "mimetype": "text/x-python",
   "name": "python",
   "nbconvert_exporter": "python",
   "pygments_lexer": "ipython3",
   "version": "3.6.0"
  }
 },
 "nbformat": 4,
 "nbformat_minor": 2
}
